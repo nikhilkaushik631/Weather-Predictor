{
  "cells": [
    {
      "cell_type": "markdown",
      "metadata": {
        "id": "3ad995f0-a174-49a5-aaef-76294021d5d4"
      },
      "source": [
        "Importing Libraries\n"
      ]
    },
    {
      "cell_type": "code",
      "execution_count": 37,
      "metadata": {
        "id": "2344f678-d444-4a13-bd7f-d730f954116f",
        "vscode": {
          "languageId": "plaintext"
        }
      },
      "outputs": [],
      "source": [
        "import pandas as pd\n",
        "from sklearn.linear_model import LogisticRegression\n",
        "from sklearn.linear_model import LinearRegression\n",
        "from sklearn.neighbors import KNeighborsClassifier\n",
        "from sklearn.model_selection import train_test_split\n",
        "from sklearn.neighbors import KNeighborsClassifier\n",
        "from sklearn.tree import DecisionTreeClassifier\n",
        "from sklearn.svm import SVC\n",
        "from sklearn.metrics import mean_absolute_error, mean_squared_error, r2_score\n",
        "from sklearn.metrics import f1_score, log_loss, accuracy_score, jaccard_score"
      ]
    },
    {
      "cell_type": "markdown",
      "metadata": {
        "id": "2bdad242-edb6-4a5b-8471-f5918f3ecab7"
      },
      "source": [
        "Importing Dataset\n"
      ]
    },
    {
      "cell_type": "code",
      "execution_count": 4,
      "metadata": {
        "id": "pAhxEIE2bh6-",
        "vscode": {
          "languageId": "plaintext"
        }
      },
      "outputs": [],
      "source": [
        "\n",
        "df = pd.read_csv('Weather_Data.csv')"
      ]
    },
    {
      "cell_type": "code",
      "execution_count": null,
      "metadata": {
        "colab": {
          "base_uri": "https://localhost:8080/",
          "height": 255
        },
        "id": "2fd31b01-a2bf-4263-8ff8-6fdce1990047",
        "outputId": "0b6ee3c1-480b-486a-ae90-8806f4b6603f"
      },
      "outputs": [],
      "source": [
        "df.head()"
      ]
    },
    {
      "cell_type": "markdown",
      "metadata": {
        "id": "eb2f4134-ab8b-48d8-aaab-85ce530aee65"
      },
      "source": [
        "#### Data Preprocessing\n"
      ]
    },
    {
      "cell_type": "markdown",
      "metadata": {
        "id": "c70975f9-cae8-4cc6-be94-dbc1a880d3c9"
      },
      "source": [
        "One Hot Encoding\n"
      ]
    },
    {
      "cell_type": "code",
      "execution_count": 8,
      "metadata": {
        "id": "55968fd3-0422-4766-98fd-9397e0006e3e",
        "vscode": {
          "languageId": "plaintext"
        }
      },
      "outputs": [],
      "source": [
        "df_s = pd.get_dummies(data=df, columns=['RainToday', 'WindGustDir', 'WindDir9am', 'WindDir3pm'])"
      ]
    },
    {
      "cell_type": "code",
      "execution_count": 9,
      "metadata": {
        "id": "77f75277-a3ca-4ccc-a5b7-f95b2491cc9b",
        "vscode": {
          "languageId": "plaintext"
        }
      },
      "outputs": [],
      "source": [
        "df_s.replace(['No', 'Yes'], [0,1], inplace=True)"
      ]
    },
    {
      "cell_type": "markdown",
      "metadata": {
        "id": "88ab6c18-f36a-408c-8510-fdf831abc53b"
      },
      "source": [
        "Training Data and Test Data\n"
      ]
    },
    {
      "cell_type": "code",
      "execution_count": 10,
      "metadata": {
        "id": "3077604d-a2f3-4e24-88ff-64b5ce69d6f0",
        "vscode": {
          "languageId": "plaintext"
        }
      },
      "outputs": [],
      "source": [
        "df_s.drop('Date',axis=1,inplace=True)"
      ]
    },
    {
      "cell_type": "code",
      "execution_count": 11,
      "metadata": {
        "id": "e1b66dd7-5bb7-4739-96b8-374d8e89269e",
        "vscode": {
          "languageId": "plaintext"
        }
      },
      "outputs": [],
      "source": [
        "df_s = df_s.astype(float)"
      ]
    },
    {
      "cell_type": "code",
      "execution_count": 12,
      "metadata": {
        "id": "29857426-177a-4c87-8982-4fdca4ff4d78",
        "vscode": {
          "languageId": "plaintext"
        }
      },
      "outputs": [],
      "source": [
        "X = df_s.drop(columns='RainTomorrow', axis=1)\n",
        "Y = df_s['RainTomorrow']"
      ]
    },
    {
      "cell_type": "code",
      "execution_count": 13,
      "metadata": {
        "id": "c38f2196-bb38-4322-a012-9a27e6a9d8d8",
        "vscode": {
          "languageId": "plaintext"
        }
      },
      "outputs": [],
      "source": [
        "x_train, x_test, y_train, y_test = train_test_split(X, Y, train_size=0.8, random_state=10)"
      ]
    },
    {
      "cell_type": "markdown",
      "metadata": {
        "id": "1be81f61-64c3-43d0-89a8-22ff1a9339cf"
      },
      "source": [
        "### Linear Regression\n"
      ]
    },
    {
      "cell_type": "code",
      "execution_count": null,
      "metadata": {
        "colab": {
          "base_uri": "https://localhost:8080/",
          "height": 75
        },
        "id": "a4293ee5-572a-45cb-a090-5f30af826630",
        "outputId": "dfcfe845-e6d3-4793-b6db-5fa430585104"
      },
      "outputs": [],
      "source": [
        "LiRe = LinearRegression()\n",
        "LiRe.fit(x_train, y_train)"
      ]
    },
    {
      "cell_type": "code",
      "execution_count": 15,
      "metadata": {
        "id": "d6bdf734-7705-4590-aa54-6b93e20a9da7",
        "vscode": {
          "languageId": "plaintext"
        }
      },
      "outputs": [],
      "source": [
        "predictions = LiRe.predict(x_test)"
      ]
    },
    {
      "cell_type": "code",
      "execution_count": 17,
      "metadata": {
        "id": "aba34a58-a974-467b-8bad-10a0fd0e88d3",
        "vscode": {
          "languageId": "plaintext"
        }
      },
      "outputs": [],
      "source": [
        "LiRe_MAE = mean_absolute_error(y_test, predictions)\n",
        "LiRe_MSE = mean_squared_error(y_test, predictions)\n",
        "LiRe_R2 = r2_score(y_test, predictions)"
      ]
    },
    {
      "cell_type": "code",
      "execution_count": null,
      "metadata": {
        "colab": {
          "base_uri": "https://localhost:8080/"
        },
        "id": "edd964f0-d1aa-4e3b-9a52-577656477438",
        "outputId": "49597621-ee28-427e-e053-9e71193c2f5c"
      },
      "outputs": [],
      "source": [
        "Report = pd.DataFrame({\n",
        "    'Metric': ['MAE', 'MSE', 'R2'],\n",
        "    'Value': [LiRe_MAE, LiRe_MSE, LiRe_R2]\n",
        "})\n",
        "\n",
        "\n",
        "print(Report)"
      ]
    },
    {
      "cell_type": "markdown",
      "metadata": {
        "id": "55351393-abee-4af8-8944-f0079265cd56"
      },
      "source": [
        "### KNN\n"
      ]
    },
    {
      "cell_type": "code",
      "execution_count": null,
      "metadata": {
        "colab": {
          "base_uri": "https://localhost:8080/",
          "height": 75
        },
        "id": "f03fe0e5-ac9f-42cd-a107-d5d46b16ae4d",
        "outputId": "faa20eb1-13c9-429e-e9c2-fba72c09b6f3"
      },
      "outputs": [],
      "source": [
        "KNN = KNeighborsClassifier(n_neighbors = 4)\n",
        "KNN.fit(x_train, y_train)"
      ]
    },
    {
      "cell_type": "code",
      "execution_count": 21,
      "metadata": {
        "id": "8f88815e-92fd-4920-983c-326502b8bc29",
        "vscode": {
          "languageId": "plaintext"
        }
      },
      "outputs": [],
      "source": [
        "predictions = KNN.predict(x_test)"
      ]
    },
    {
      "cell_type": "code",
      "execution_count": null,
      "metadata": {
        "colab": {
          "base_uri": "https://localhost:8080/"
        },
        "id": "47ddb040-001c-4c7f-907a-e0fe69d2bfb7",
        "outputId": "951ea087-c653-4d42-c9ed-8d1e9b548e9e"
      },
      "outputs": [],
      "source": [
        "KNN_Accuracy_Score = accuracy_score(y_test, predictions)\n",
        "KNN_JaccardIndex = jaccard_score(y_test, predictions)\n",
        "KNN_F1_Score = f1_score(y_test, predictions)\n",
        "\n",
        "print(\"Accuracy: \", KNN_Accuracy_Score)\n",
        "print(\"Jaccard index: \", KNN_JaccardIndex)\n",
        "print(\"f1 score: \", KNN_F1_Score)"
      ]
    },
    {
      "cell_type": "markdown",
      "metadata": {
        "id": "b1b49d21-0f4b-4737-a15c-88574afb6dc5"
      },
      "source": [
        "### Decision Tree\n"
      ]
    },
    {
      "cell_type": "code",
      "execution_count": null,
      "metadata": {
        "colab": {
          "base_uri": "https://localhost:8080/",
          "height": 75
        },
        "id": "f4a9ea81-7336-4cab-aa98-22cb6c6e79ca",
        "outputId": "8c9b50ee-aa51-40f9-f26b-2cccfadaf05a"
      },
      "outputs": [],
      "source": [
        "DT = DecisionTreeClassifier()\n",
        "DT.fit(x_train, y_train)"
      ]
    },
    {
      "cell_type": "code",
      "execution_count": 26,
      "metadata": {
        "id": "4f6ea989-4778-47c8-9bc0-f6fae679f3c3",
        "vscode": {
          "languageId": "plaintext"
        }
      },
      "outputs": [],
      "source": [
        "predictions = DT.predict(x_test)"
      ]
    },
    {
      "cell_type": "code",
      "execution_count": null,
      "metadata": {
        "colab": {
          "base_uri": "https://localhost:8080/"
        },
        "id": "edb09a5f-c3e2-4c4f-924b-85f6ffe96729",
        "outputId": "9891a941-a355-4e96-b143-1f8ea5afef77"
      },
      "outputs": [],
      "source": [
        "DT_Accuracy_Score = accuracy_score(y_test, predictions)\n",
        "DT_JaccardIndex = jaccard_score(y_test, predictions)\n",
        "DT_F1_Score = f1_score(y_test, predictions)\n",
        "\n",
        "\n",
        "print(\"Accuracy: \", DT_Accuracy_Score)\n",
        "print(\"Jaccard index: \", DT_JaccardIndex)\n",
        "print(\"F1 score: \", DT_F1_Score)"
      ]
    },
    {
      "cell_type": "markdown",
      "metadata": {
        "id": "f2905933-3b27-4ece-a80a-b35744f54b5f"
      },
      "source": [
        "### Logistic Regression\n"
      ]
    },
    {
      "cell_type": "code",
      "execution_count": 28,
      "metadata": {
        "id": "f7f13536-93e4-4edd-9c75-49a6d342f446",
        "vscode": {
          "languageId": "plaintext"
        }
      },
      "outputs": [],
      "source": [
        "x_train, x_test, y_train, y_test = train_test_split(X, Y, test_size = 0.2, random_state=1)"
      ]
    },
    {
      "cell_type": "code",
      "execution_count": null,
      "metadata": {
        "colab": {
          "base_uri": "https://localhost:8080/",
          "height": 75
        },
        "id": "57ef08e5-9b64-4337-92a6-9af7f98a81a4",
        "outputId": "4287e3ff-8616-41d3-ddae-61fc9cd50845"
      },
      "outputs": [],
      "source": [
        "LR = LogisticRegression(solver=\"liblinear\")\n",
        "LR.fit(x_train, y_train)"
      ]
    },
    {
      "cell_type": "code",
      "execution_count": 30,
      "metadata": {
        "id": "b2aad2f1-d2b7-4267-ab2e-1913d6b681a8",
        "vscode": {
          "languageId": "plaintext"
        }
      },
      "outputs": [],
      "source": [
        "predictions = LR.predict(x_test)"
      ]
    },
    {
      "cell_type": "code",
      "execution_count": null,
      "metadata": {
        "colab": {
          "base_uri": "https://localhost:8080/"
        },
        "id": "6dc992b9-a3f8-49b5-a988-90118971013f",
        "outputId": "fea77328-06dd-4254-9287-a8853972587e"
      },
      "outputs": [],
      "source": [
        "LR_Accuracy_Score = accuracy_score(y_test, predictions)\n",
        "LR_JaccardIndex = jaccard_score(y_test, predictions)\n",
        "LR_F1_Score = f1_score(y_test, predictions)\n",
        "LR_Log_Loss = log_loss(y_test, predictions)\n",
        "\n",
        "# Displaying the results\n",
        "print(\"Accuracy: \", LR_Accuracy_Score)\n",
        "print(\"Jaccard index: \", LR_JaccardIndex)\n",
        "print(\"F1 score: \", LR_F1_Score)\n",
        "print(\"Log Loss: \", LR_Log_Loss)"
      ]
    },
    {
      "cell_type": "markdown",
      "metadata": {
        "id": "0c7326ae-5aa6-4666-b4d6-0705e5bcb771"
      },
      "source": [
        "### SVM\n"
      ]
    },
    {
      "cell_type": "code",
      "execution_count": null,
      "metadata": {
        "colab": {
          "base_uri": "https://localhost:8080/",
          "height": 75
        },
        "id": "55d94ee3-60bb-4307-8fae-8d87dfd0f5ad",
        "outputId": "bb007359-b991-4b90-a7c6-dbb3154e6c4b"
      },
      "outputs": [],
      "source": [
        "SVM = SVC()\n",
        "SVM.fit(x_train , y_train)"
      ]
    },
    {
      "cell_type": "code",
      "execution_count": 46,
      "metadata": {
        "id": "cb98d313-75b6-4bea-b79c-efec4b9e412c",
        "vscode": {
          "languageId": "plaintext"
        }
      },
      "outputs": [],
      "source": [
        "predictions = SVM.predict(x_test)"
      ]
    },
    {
      "cell_type": "code",
      "execution_count": null,
      "metadata": {
        "colab": {
          "base_uri": "https://localhost:8080/"
        },
        "id": "34922618-6a7d-494c-a1b6-5f515f29a801",
        "outputId": "8f74bf7e-52d4-481a-b394-30dd3a199057"
      },
      "outputs": [],
      "source": [
        "SVM_Accuracy_Score = accuracy_score(y_test, predictions)\n",
        "SVM_JaccardIndex = jaccard_score(y_test, predictions, average='macro')\n",
        "SVM_F1_Score = f1_score(y_test, predictions, average='macro')\n",
        "\n",
        "print(\"SVM Accuracy Score: \", SVM_Accuracy_Score)\n",
        "print(\"SVM Jaccard Index: \", SVM_JaccardIndex)\n",
        "print(\"SVM F1 Score: \", SVM_F1_Score)"
      ]
    },
    {
      "cell_type": "markdown",
      "metadata": {},
      "source": [
        "# Final Report"
      ]
    },
    {
      "cell_type": "code",
      "execution_count": null,
      "metadata": {
        "colab": {
          "base_uri": "https://localhost:8080/"
        },
        "id": "f7cc9f99-9da8-48e1-916e-fd642e28b773",
        "outputId": "9d43f0fb-c782-4e02-c948-d30324735e27"
      },
      "outputs": [],
      "source": [
        "Report = pd.DataFrame({\n",
        "    'Metric': ['MAE', 'MSE', 'R2', 'Accuracy', 'Jaccard Index', 'F1 Score', 'Log Loss'],\n",
        "    'Linear': [LiRe_MAE, LiRe_MSE, LiRe_R2, None, None, None, None],\n",
        "    'KNN': [None, None, None, KNN_Accuracy_Score, KNN_JaccardIndex, KNN_F1_Score, None],\n",
        "    'Trees': [None, None, None, DT_Accuracy_Score, DT_JaccardIndex, DT_F1_Score, None],\n",
        "    'Logistic': [None, None, None, LR_Accuracy_Score, LR_JaccardIndex, LR_F1_Score, LR_Log_Loss],\n",
        "    'SVM': [None, None, None, SVM_Accuracy_Score, SVM_JaccardIndex, SVM_F1_Score, None]\n",
        "})\n",
        "\n",
        "\n",
        "print(Report.to_string(index = False))"
      ]
    }
  ],
  "metadata": {
    "colab": {
      "provenance": []
    },
    "kernelspec": {
      "display_name": "Python (Pyodide)",
      "language": "python",
      "name": "python"
    },
    "language_info": {
      "codemirror_mode": {
        "name": "python",
        "version": 3
      },
      "file_extension": ".py",
      "mimetype": "text/x-python",
      "name": "python",
      "nbconvert_exporter": "python",
      "pygments_lexer": "ipython3",
      "version": "3.8"
    },
    "prev_pub_hash": "ba039b1c59dfa11e53b73e3fc8c403e1e8b43c7aedf6f7e0b1d1e7914b44d98a"
  },
  "nbformat": 4,
  "nbformat_minor": 0
}
